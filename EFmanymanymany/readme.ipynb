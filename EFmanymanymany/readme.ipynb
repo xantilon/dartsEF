{
  "cells": [
    {
      "cell_type": "markdown",
      "metadata": {},
      "source": [
        "# Preparation\n",
        "net 6 SDK installieren"
      ]
    },
    {
      "cell_type": "code",
      "execution_count": 1,
      "metadata": {
        "dotnet_interactive": {
          "language": "pwsh"
        }
      },
      "outputs": [],
      "source": [
        "dotnet tool install --global dotnet-ef  \n",
        "dotnet user-secrets init"
      ]
    },
    {
      "cell_type": "markdown",
      "metadata": {},
      "source": [
        "# neues Dart project"
      ]
    },
    {
      "cell_type": "code",
      "execution_count": 1,
      "metadata": {
        "dotnet_interactive": {
          "language": "pwsh"
        }
      },
      "outputs": [],
      "source": [
        "mkdir darts\n",
        "cd darts\n",
        "git init\n",
        "dotnet new gitignore\n",
        "dotnet new console -o .\\EFmanymanymany\n",
        "dotnet new sln\n",
        "dotnet sln add .\\EFmanymanymany\n",
        "cd .\\EFmanymanymany\n",
        "dotnet add package Microsoft.EntityFrameworkCore.Design \n",
        "dotnet add package Microsoft.EntityFrameworkCore.SqlServer"
      ]
    },
    {
      "cell_type": "code",
      "execution_count": 1,
      "metadata": {
        "dotnet_interactive": {
          "language": "csharp"
        }
      },
      "outputs": [],
      "source": [
        "dotnet user-secrets set ConnectionStrings:DartsDB \"Data Source=(localdb)\\MSSQLLocalDB;Initial Catalog=darts\"\n",
        "dotnet ef dbcontext scaffold Name=DartsDB Microsoft.EntityFrameworkCore.SqlServer"
      ]
    },
    {
      "cell_type": "code",
      "execution_count": 1,
      "metadata": {
        "dotnet_interactive": {
          "language": "csharp"
        }
      },
      "outputs": [],
      "source": [
        "git add *\n",
        "git commit -m \"initial\""
      ]
    },
    {
      "cell_type": "markdown",
      "metadata": {},
      "source": [
        "add some models\n",
        "dont forget to add them as DBSet in DartsContext"
      ]
    },
    {
      "cell_type": "code",
      "execution_count": 1,
      "metadata": {
        "dotnet_interactive": {
          "language": "pwsh"
        }
      },
      "outputs": [],
      "source": [
        "dotnet ef migrations add Initial\n",
        "dotnet ef database update"
      ]
    }
  ],
  "metadata": {
    "kernelspec": {
      "display_name": ".NET (C#)",
      "language": "C#",
      "name": ".net-csharp"
    },
    "language_info": {
      "file_extension": ".cs",
      "mimetype": "text/x-csharp",
      "name": "C#",
      "pygments_lexer": "csharp",
      "version": "8.0"
    }
  },
  "nbformat": 4,
  "nbformat_minor": 4
}
