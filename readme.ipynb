{
 "cells": [
  {
   "cell_type": "markdown",
   "metadata": {},
   "source": [
    "# Preparation\n",
    "net 6 SDK installieren"
   ]
  },
  {
   "cell_type": "code",
   "execution_count": null,
   "metadata": {
    "dotnet_interactive": {
     "language": "pwsh"
    }
   },
   "outputs": [
    {
     "name": "stdout",
     "output_type": "stream",
     "text": [
      "Das Tool \"dotnet-ef\" ist bereits installiert.\r\n",
      "System.IO.FileNotFoundException: Could not find a MSBuild project file in 'D:\\Projekte\\dartsEF'. Specify which project to use with the --project option.\r\n",
      "   at Microsoft.Extensions.SecretManager.Tools.Internal.MsBuildProjectFinder.FindMsBuildProject(String project)\r\n",
      "   at Microsoft.Extensions.SecretManager.Tools.Internal.InitCommand.ResolveProjectPath(String name, String path)\r\n",
      "   at Microsoft.Extensions.SecretManager.Tools.Internal.InitCommand.Execute(CommandContext context)\r\n",
      "   at Microsoft.Extensions.SecretManager.Tools.Internal.InitCommand.Execute(CommandContext context, String workingDirectory)\r\n",
      "   at Microsoft.Extensions.SecretManager.Tools.Internal.InitCommandFactory.Execute(CommandContext context, String workingDirectory)\r\n",
      "   at Microsoft.Extensions.SecretManager.Tools.Program.RunInternal(String[] args)\r\n",
      "   at Microsoft.Extensions.SecretManager.Tools.Program.TryRun(String[] args, Int32& returnCode)\r\n",
      "Command failed : Could not find a MSBuild project file in 'D:\\Projekte\\dartsEF'. Specify which project to use with the --project option.\r\n"
     ]
    },
    {
     "data": {
      "text/plain": []
     },
     "metadata": {},
     "output_type": "display_data"
    }
   ],
   "source": [
    "dotnet tool install --global dotnet-ef                              "
   ]
  },
  {
   "cell_type": "markdown",
   "metadata": {},
   "source": [
    "# neue Dart Solution"
   ]
  },
  {
   "cell_type": "code",
   "execution_count": null,
   "metadata": {
    "dotnet_interactive": {
     "language": "pwsh"
    }
   },
   "outputs": [],
   "source": [
    "mkdir darts\n",
    "cd darts\n",
    "git init\n",
    "dotnet new gitignore\n",
    "dotnet new sln"
   ]
  },
  {
   "cell_type": "markdown",
   "metadata": {},
   "source": [
    "# neues Dart Project"
   ]
  },
  {
   "cell_type": "code",
   "execution_count": null,
   "metadata": {
    "dotnet_interactive": {
     "language": "pwsh"
    }
   },
   "outputs": [],
   "source": [
    "dotnet new console -o .\\EFmanymanymany\n",
    "dotnet sln add .\\EFmanymanymany\n",
    "cd .\\EFmanymanymany\n",
    "dotnet user-secrets init\n",
    "$projDir = pwd"
   ]
  },
  {
   "cell_type": "markdown",
   "metadata": {},
   "source": [
    "# up and running"
   ]
  },
  {
   "cell_type": "code",
   "execution_count": null,
   "metadata": {
    "dotnet_interactive": {
     "language": "pwsh"
    }
   },
   "outputs": [],
   "source": [
    "git add *\n",
    "git commit -m \"initial\""
   ]
  },
  {
   "cell_type": "markdown",
   "metadata": {},
   "source": [
    "# DB Context generieren"
   ]
  },
  {
   "cell_type": "code",
   "execution_count": null,
   "metadata": {
    "dotnet_interactive": {
     "language": "pwsh"
    }
   },
   "outputs": [],
   "source": [
    "$projDir = \"D:\\Projekte\\dartsEF\\EFmanymanymany\""
   ]
  },
  {
   "cell_type": "code",
   "execution_count": null,
   "metadata": {
    "dotnet_interactive": {
     "language": "pwsh"
    }
   },
   "outputs": [],
   "source": [
    "pushd $projDir\n",
    "dotnet add package Microsoft.EntityFrameworkCore.Design \n",
    "dotnet add package Microsoft.EntityFrameworkCore.SqlServer\n",
    "dotnet add package Microsoft.Extensions.Configuration.Json\n",
    "dotnet add package Microsoft.Extensions.Configuration.Binder"
   ]
  },
  {
   "cell_type": "markdown",
   "metadata": {},
   "source": [
    "## Fail 1\n",
    "```pwsh\n",
    "dotnet ef dbcontext scaffold Context=DartsContext2 'Data Source=(localdb)\\batmanDB;Initial Catalog=darts' Microsoft.EntityFrameworkCore.SqlServer\n",
    "```\n",
    "Mein generierter Context mit integratedAuthentication bringt \"Login failed\". Daher setze ich ein Passwort für SA\n",
    "\n",
    "```sql\n",
    "USE [master]\n",
    "GO\n",
    "ALTER LOGIN [sa] WITH PASSWORD=N'Start123'\n",
    "GO\n",
    "ALTER LOGIN [sa] ENABLE\n",
    "GO\n",
    "```"
   ]
  },
  {
   "cell_type": "code",
   "execution_count": null,
   "metadata": {
    "dotnet_interactive": {
     "language": "pwsh"
    }
   },
   "outputs": [],
   "source": [
    "pushd $projDir\n",
    "dotnet ef dbcontext scaffold 'Data Source=(localdb)\\batmanDB;Initial Catalog=darts;User ID=sa;Password=Start123' Microsoft.EntityFrameworkCore.SqlServer -c \"Darts2Context\" -o .\\Models"
   ]
  },
  {
   "cell_type": "code",
   "execution_count": null,
   "metadata": {
    "dotnet_interactive": {
     "language": "pwsh"
    }
   },
   "outputs": [],
   "source": [
    "\n",
    "#dotnet user-secrets set ConnectionStrings:DartsDB \"Data Source=(localdb)\\batmanDB;Initial Catalog=darts;\"\n",
    "#dotnet ef dbcontext scaffold Context=DartsContext2 Name=DartsDB Microsoft.EntityFrameworkCore.SqlServer\n",
    "dotnet ef dbcontext scaffold Context=DartsContext2 'Data Source=(localdb)\\batmanDB;Initial Catalog=darts;User ID=sa;Password=Start123' Microsoft.EntityFrameworkCore.SqlServer"
   ]
  },
  {
   "cell_type": "markdown",
   "metadata": {},
   "source": [
    "## Fail 2\n",
    "Die Verwendung von user-secrets scheint mit scaffolding noch nicht zu funktionieren\n",
    "\n",
    "```pwsh\n",
    "dotnet user-secrets set ConnectionStrings:DartsDB \"Data Source=(localdb)\\batmanDB;Initial Catalog=darts;\"\n",
    "dotnet ef dbcontext scaffold Name=DartsDB Microsoft.EntityFrameworkCore.SqlServer -c Darts2Context\n",
    "```"
   ]
  },
  {
   "cell_type": "code",
   "execution_count": null,
   "metadata": {
    "dotnet_interactive": {
     "language": "pwsh"
    }
   },
   "outputs": [],
   "source": [
    "git add *\n",
    "git commit -m \"add db context\""
   ]
  },
  {
   "cell_type": "markdown",
   "metadata": {},
   "source": [
    "* add some models\n",
    "* dont forget to add them as DBSet in DartsContext"
   ]
  },
  {
   "cell_type": "code",
   "execution_count": null,
   "metadata": {
    "dotnet_interactive": {
     "language": "pwsh"
    }
   },
   "outputs": [],
   "source": [
    "dotnet ef migrations add \"initial\"\n",
    "dotnet ef database update"
   ]
  },
  {
   "cell_type": "code",
   "execution_count": null,
   "metadata": {
    "dotnet_interactive": {
     "language": "pwsh"
    }
   },
   "outputs": [
    {
     "name": "stdout",
     "output_type": "stream",
     "text": [
      "Unhandled exception. Microsoft.Data.SqlClient.SqlException (0x80131904): There is already an object named 'Games' in the database.\r\n",
      "   at Microsoft.Data.SqlClient.SqlConnection.OnError(SqlException exception, Boolean breakConnection, Action`1 wrapCloseInAction)\r\n",
      "   at Microsoft.Data.SqlClient.SqlInternalConnection.OnError(SqlException exception, Boolean breakConnection, Action`1 wrapCloseInAction)\r\n",
      "   at Microsoft.Data.SqlClient.TdsParser.ThrowExceptionAndWarning(TdsParserStateObject stateObj, Boolean callerHasConnectionLock, Boolean asyncClose)\r\n",
      "   at Microsoft.Data.SqlClient.TdsParser.TryRun(RunBehavior runBehavior, SqlCommand cmdHandler, SqlDataReader dataStream, BulkCopySimpleResultSet bulkCopyHandler, TdsParserStateObject stateObj, Boolean& dataReady)\r\n",
      "   at Microsoft.Data.SqlClient.SqlCommand.RunExecuteNonQueryTds(String methodName, Boolean isAsync, Int32 timeout, Boolean asyncWrite)\r\n",
      "   at Microsoft.Data.SqlClient.SqlCommand.InternalExecuteNonQuery(TaskCompletionSource`1 completion, Boolean sendToPipe, Int32 timeout, Boolean& usedCache, Boolean asyncWrite, Boolean inRetry, String methodName)\r\n",
      "   at Microsoft.Data.SqlClient.SqlCommand.ExecuteNonQuery()\r\n",
      "   at Microsoft.EntityFrameworkCore.Storage.RelationalCommand.ExecuteNonQuery(RelationalCommandParameterObject parameterObject)\r\n",
      "   at Microsoft.EntityFrameworkCore.Migrations.MigrationCommand.ExecuteNonQuery(IRelationalConnection connection, IReadOnlyDictionary`2 parameterValues)\r\n",
      "   at Microsoft.EntityFrameworkCore.Migrations.Internal.MigrationCommandExecutor.ExecuteNonQuery(IEnumerable`1 migrationCommands, IRelationalConnection connection)\r\n",
      "   at Microsoft.EntityFrameworkCore.Migrations.Internal.Migrator.Migrate(String targetMigration)\r\n",
      "   at Microsoft.EntityFrameworkCore.RelationalDatabaseFacadeExtensions.Migrate(DatabaseFacade databaseFacade)\r\n",
      "   at EFmanymanymany.DbInitializer.Init() in D:\\Projekte\\dartsEF\\EFmanymanymany\\DbInitializer.cs:line 21\r\n",
      "   at EFmanymanymany.Program.Main(String[] args) in D:\\Projekte\\dartsEF\\EFmanymanymany\\Program.cs:line 12\r\n",
      "ClientConnectionId:435b07ca-77a4-491e-b48b-fe8c4563ca38\r\n",
      "Error Number:2714,State:6,Class:16\r\n"
     ]
    }
   ],
   "source": [
    "pushd $projDir\n",
    "dotnet run\n"
   ]
  },
  {
   "cell_type": "code",
   "execution_count": null,
   "metadata": {
    "dotnet_interactive": {
     "language": "csharp"
    }
   },
   "outputs": [
    {
     "data": {
      "text/html": [
       "<div><div></div><div></div><div><strong>Installed Packages</strong><ul><li><span>Microsoft.DotNet.Interactive.SqlServer, 1.0.0-beta.21606.1</span></li></ul></div></div>"
      ]
     },
     "metadata": {},
     "output_type": "display_data"
    },
    {
     "name": "stdout",
     "output_type": "stream",
     "text": [
      "mssql\r\n",
      "  Connects to a Microsoft SQL Server database\r\n",
      "\r\n",
      "Usage:\r\n",
      "  [options] #!connect mssql <connectionString>\r\n",
      "\r\n",
      "Arguments:\r\n",
      "  <connectionString>  The connection string used to connect to the database\r\n",
      "\r\n",
      "Options:\r\n",
      "  --create-dbcontext           Scaffold a DbContext in the C# kernel.\r\n",
      "  --kernel-name <kernel-name>  The name of the subkernel to be added\r\n",
      "  -?, -h, --help               Show help and usage information\r\n",
      "\r\n"
     ]
    }
   ],
   "source": [
    "#r \"nuget:Microsoft.DotNet.Interactive.SqlServer,*-*\"\n",
    "#!connect mssql -h\n"
   ]
  }
 ],
 "metadata": {
  "kernelspec": {
   "display_name": ".NET (C#)",
   "language": "C#",
   "name": ".net-csharp"
  },
  "language_info": {
   "file_extension": ".cs",
   "mimetype": "text/x-csharp",
   "name": "C#",
   "pygments_lexer": "csharp",
   "version": "9.0"
  },
  "orig_nbformat": 4
 },
 "nbformat": 4,
 "nbformat_minor": 2
}
