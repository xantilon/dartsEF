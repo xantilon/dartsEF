{
 "cells": [
  {
   "cell_type": "markdown",
   "metadata": {},
   "source": [
    "# Preparation\n",
    "net 6 SDK installieren"
   ]
  },
  {
   "cell_type": "code",
   "execution_count": null,
   "metadata": {
    "dotnet_interactive": {
     "language": "pwsh"
    }
   },
   "outputs": [],
   "source": [
    "dotnet tool install --global dotnet-ef                              \n"
   ]
  },
  {
   "cell_type": "markdown",
   "metadata": {},
   "source": [
    "# neues Dart project"
   ]
  },
  {
   "cell_type": "code",
   "execution_count": null,
   "metadata": {
    "dotnet_interactive": {
     "language": "pwsh"
    }
   },
   "outputs": [],
   "source": [
    "mkdir darts\n",
    "cd darts\n",
    "git init\n",
    "dotnet new gitignore\n",
    "dotnet new console -o .\\EFmanymanymany\n",
    "dotnet new sln\n",
    "dotnet sln add .\\EFmanymanymany\n",
    "cd .\\EFmanymanymany\n",
    "dotnet add package Microsoft.EntityFrameworkCore.Design \n",
    "dotnet add package Microsoft.EntityFrameworkCore.SqlServer\n",
    "dotnet ef dbcontext scaffold --context DartsContext \"Data Source=(localdb)\\MSSQLLocalDB;Initial Catalog=darts;Integrated Security=True;Connect Timeout=30;Encrypt=False;TrustServerCertificate=False;ApplicationIntent=ReadWrite;MultiSubnetFailover=False\" Microsoft.EntityFrameworkCore.SqlServer\n",
    "git add *\n",
    "git commit -m \"initial\""
   ]
  },
  {
   "cell_type": "markdown",
   "metadata": {},
   "source": [
    "add some models\n",
    "dont forget to add them as DBSet in DartsContext"
   ]
  },
  {
   "cell_type": "code",
   "execution_count": null,
   "metadata": {
    "dotnet_interactive": {
     "language": "pwsh"
    }
   },
   "outputs": [],
   "source": [
    "dotnet ef migrations add Initial\n",
    "dotnet ef database update"
   ]
  }
 ],
 "metadata": {
  "kernelspec": {
   "display_name": ".NET (C#)",
   "language": "C#",
   "name": ".net-csharp"
  },
  "language_info": {
   "file_extension": ".cs",
   "mimetype": "text/x-csharp",
   "name": "C#",
   "pygments_lexer": "csharp",
   "version": "9.0"
  },
  "orig_nbformat": 4
 },
 "nbformat": 4,
 "nbformat_minor": 2
}
